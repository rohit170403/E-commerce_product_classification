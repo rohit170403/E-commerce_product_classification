{
  "nbformat": 4,
  "nbformat_minor": 0,
  "metadata": {
    "colab": {
      "provenance": [],
      "gpuType": "V28"
    },
    "kernelspec": {
      "name": "python3",
      "display_name": "Python 3"
    },
    "language_info": {
      "name": "python"
    },
    "accelerator": "TPU"
  },
  "cells": [
    {
      "cell_type": "code",
      "execution_count": null,
      "metadata": {
        "colab": {
          "base_uri": "https://localhost:8080/"
        },
        "id": "5jyqEVjdyvhe",
        "outputId": "0bbf13c7-ce62-4c5c-8358-dad1c66ca251"
      },
      "outputs": [
        {
          "output_type": "stream",
          "name": "stderr",
          "text": [
            "WARNING:tensorflow:Mixed precision compatibility check (mixed_float16): WARNING\n",
            "The dtype policy mixed_float16 may run slowly because this machine does not have a GPU. Only Nvidia GPUs with compute capability of at least 7.0 run quickly with mixed_float16.\n",
            "If you will use compatible GPU(s) not attached to this host, e.g. by running a multi-worker model, you can ignore this warning. This message will only be logged once\n"
          ]
        }
      ],
      "source": [
        "import tensorflow as tf\n",
        "from tensorflow.keras.applications import MobileNetV3Small\n",
        "from tensorflow.keras.layers import Dense, GlobalAveragePooling2D, Conv2D\n",
        "from tensorflow.keras.models import Model\n",
        "from tensorflow.keras.preprocessing.image import ImageDataGenerator\n",
        "from tensorflow.keras.callbacks import EarlyStopping, ModelCheckpoint\n",
        "import numpy as np\n",
        "\n",
        "# Enable mixed precision for faster training\n",
        "tf.keras.mixed_precision.set_global_policy('mixed_float16')\n"
      ]
    },
    {
      "cell_type": "code",
      "source": [
        "\n",
        "# Load and preprocess Fashion MNIST data\n",
        "from tensorflow.keras.datasets import fashion_mnist\n",
        "(train_images, train_labels), (test_images, test_labels) = fashion_mnist.load_data()\n",
        "\n",
        "# Reshape images and normalize\n",
        "train_images = np.expand_dims(train_images, -1)\n",
        "test_images = np.expand_dims(test_images, -1)\n",
        "\n",
        "# Resize images to 96x96 and normalize\n",
        "train_images = tf.image.resize(train_images, (96, 96)) / 255.0\n",
        "test_images = tf.image.resize(test_images, (96, 96)) / 255.0\n"
      ],
      "metadata": {
        "colab": {
          "base_uri": "https://localhost:8080/"
        },
        "id": "0SN2jTzq-GPv",
        "outputId": "6bc8d20c-5314-49cc-dc19-18cffd8df5c2"
      },
      "execution_count": null,
      "outputs": [
        {
          "output_type": "stream",
          "name": "stdout",
          "text": [
            "Downloading data from https://storage.googleapis.com/tensorflow/tf-keras-datasets/train-labels-idx1-ubyte.gz\n",
            "29515/29515 [==============================] - 0s 0us/step\n",
            "Downloading data from https://storage.googleapis.com/tensorflow/tf-keras-datasets/train-images-idx3-ubyte.gz\n",
            "26421880/26421880 [==============================] - 0s 0us/step\n",
            "Downloading data from https://storage.googleapis.com/tensorflow/tf-keras-datasets/t10k-labels-idx1-ubyte.gz\n",
            "5148/5148 [==============================] - 0s 0us/step\n",
            "Downloading data from https://storage.googleapis.com/tensorflow/tf-keras-datasets/t10k-images-idx3-ubyte.gz\n",
            "4422102/4422102 [==============================] - 0s 0us/step\n"
          ]
        }
      ]
    },
    {
      "cell_type": "code",
      "source": [
        "\n",
        "num_classes = 10\n",
        "\n",
        "# Load the pretrained MobileNetV3Small model\n",
        "base_model = MobileNetV3Small(weights='imagenet', include_top=False, input_shape=(96, 96, 3))\n",
        "base_model.trainable = False  # Freeze all layers\n",
        "\n"
      ],
      "metadata": {
        "colab": {
          "base_uri": "https://localhost:8080/"
        },
        "id": "_3SOZnT1-YYy",
        "outputId": "58f11a48-0a62-4001-a709-e143be4c466f"
      },
      "execution_count": null,
      "outputs": [
        {
          "output_type": "stream",
          "name": "stderr",
          "text": [
            "WARNING:tensorflow:`input_shape` is undefined or non-square, or `rows` is not 224. Weights for input shape (224, 224) will be loaded as the default.\n"
          ]
        },
        {
          "output_type": "stream",
          "name": "stdout",
          "text": [
            "Downloading data from https://storage.googleapis.com/tensorflow/keras-applications/mobilenet_v3/weights_mobilenet_v3_small_224_1.0_float_no_top_v2.h5\n",
            "4334752/4334752 [==============================] - 0s 0us/step\n"
          ]
        }
      ]
    },
    {
      "cell_type": "code",
      "source": [
        "\n",
        "inputs = tf.keras.Input(shape=(96, 96, 1))\n",
        "x = Conv2D(3, (3, 3), padding='same')(inputs)  # Convert grayscale to RGB\n"
      ],
      "metadata": {
        "id": "yoEhIVVv-fBu"
      },
      "execution_count": null,
      "outputs": []
    },
    {
      "cell_type": "code",
      "source": [
        "\n",
        "# Pass through the pretrained model\n",
        "x = base_model(x, training=False)\n",
        "\n",
        "# Add global pooling and dense layers\n",
        "x = GlobalAveragePooling2D()(x)\n",
        "x = Dense(1024, activation='relu')(x)\n",
        "outputs = Dense(num_classes, activation='softmax', dtype='float32')(x)\n"
      ],
      "metadata": {
        "id": "Q3gDDc-I-lAb"
      },
      "execution_count": null,
      "outputs": []
    },
    {
      "cell_type": "code",
      "source": [
        "\n",
        "# Build the model\n",
        "model = Model(inputs=inputs, outputs=outputs)\n",
        "\n",
        "# Compile the model\n",
        "model.compile(optimizer=tf.keras.optimizers.Adam(learning_rate=0.001),\n",
        "              loss='sparse_categorical_crossentropy',\n",
        "              metrics=['accuracy'])\n"
      ],
      "metadata": {
        "id": "RVoMDX19-nQk"
      },
      "execution_count": null,
      "outputs": []
    },
    {
      "cell_type": "code",
      "source": [
        "\n",
        "# Set up data augmentation with a smaller batch size\n",
        "train_datagen = ImageDataGenerator(rotation_range=20, width_shift_range=0.2,\n",
        "                                   height_shift_range=0.2, horizontal_flip=True)\n",
        "train_generator = train_datagen.flow(train_images, train_labels, batch_size=32)\n"
      ],
      "metadata": {
        "id": "7kx2kxLc-qBQ"
      },
      "execution_count": null,
      "outputs": []
    },
    {
      "cell_type": "code",
      "source": [
        "\n",
        "# Early stopping and model checkpoint to save the best model\n",
        "early_stopping = EarlyStopping(monitor='val_loss', patience=2, restore_best_weights=True)\n",
        "checkpoint = ModelCheckpoint(\"best_model.h5\", monitor='val_accuracy', save_best_only=True, mode='max')\n",
        "\n",
        "# Train for a smaller number of epochs\n",
        "history = model.fit(train_generator, epochs=5,\n",
        "                    validation_data=(test_images, test_labels),\n",
        "                    callbacks=[early_stopping, checkpoint])\n",
        "\n",
        "#"
      ],
      "metadata": {
        "colab": {
          "base_uri": "https://localhost:8080/"
        },
        "id": "yYOCmq8p-sro",
        "outputId": "059a4d4d-ebfb-4792-c475-4852e222913a"
      },
      "execution_count": null,
      "outputs": [
        {
          "output_type": "stream",
          "name": "stdout",
          "text": [
            "Epoch 1/5\n",
            "1875/1875 [==============================] - 961s 511ms/step - loss: 1.0055 - accuracy: 0.6250 - val_loss: 0.6463 - val_accuracy: 0.7530\n"
          ]
        },
        {
          "output_type": "stream",
          "name": "stderr",
          "text": [
            "/usr/local/lib/python3.10/dist-packages/keras/src/engine/training.py:3103: UserWarning: You are saving your model as an HDF5 file via `model.save()`. This file format is considered legacy. We recommend using instead the native Keras format, e.g. `model.save('my_model.keras')`.\n",
            "  saving_api.save_model(\n"
          ]
        },
        {
          "output_type": "stream",
          "name": "stdout",
          "text": [
            "Epoch 2/5\n",
            "1875/1875 [==============================] - 954s 509ms/step - loss: 0.6359 - accuracy: 0.7647 - val_loss: 0.5198 - val_accuracy: 0.8081\n",
            "Epoch 3/5\n",
            "1875/1875 [==============================] - 955s 510ms/step - loss: 0.5652 - accuracy: 0.7901 - val_loss: 0.4768 - val_accuracy: 0.8214\n",
            "Epoch 4/5\n",
            "1875/1875 [==============================] - 955s 509ms/step - loss: 0.5281 - accuracy: 0.8045 - val_loss: 0.4803 - val_accuracy: 0.8182\n",
            "Epoch 5/5\n",
            "1875/1875 [==============================] - 954s 509ms/step - loss: 0.5029 - accuracy: 0.8131 - val_loss: 0.4664 - val_accuracy: 0.8265\n"
          ]
        }
      ]
    },
    {
      "cell_type": "code",
      "source": [
        "\n",
        "model.load_weights(\"best_model.h5\")\n",
        "test_loss, test_accuracy = model.evaluate(test_images, test_labels)\n",
        "print(f\"Test accuracy: {test_accuracy * 100:.2f}%\")\n"
      ],
      "metadata": {
        "colab": {
          "base_uri": "https://localhost:8080/"
        },
        "id": "4OMZDdYd-x3D",
        "outputId": "65bc524e-a297-47a6-f089-1012ee4f68a6"
      },
      "execution_count": null,
      "outputs": [
        {
          "output_type": "stream",
          "name": "stdout",
          "text": [
            "313/313 [==============================] - 36s 114ms/step - loss: 0.4664 - accuracy: 0.8265\n",
            "Test accuracy: 82.65%\n"
          ]
        }
      ]
    },
    {
      "cell_type": "code",
      "source": [
        "import tensorflow as tf\n",
        "import numpy as np\n",
        "from tensorflow.keras.preprocessing import image\n",
        "\n",
        "# Load the saved model\n",
        "model = tf.keras.models.load_model(\"best_model.h5\")\n",
        "\n",
        "# Function to preprocess and predict on a new image\n",
        "def preprocess_and_predict(img_path):\n",
        "    # Load and preprocess the image\n",
        "    img = image.load_img(img_path, target_size=(96, 96), color_mode='grayscale')  # Load as grayscale\n",
        "    img_array = image.img_to_array(img)  # Convert to array\n",
        "    img_array = np.expand_dims(img_array, axis=0)  # Add batch dimension\n",
        "    img_array = tf.image.resize(img_array, (96, 96))  # Resize if needed\n",
        "    # The line below was causing the error, as the model expected grayscale input,\n",
        "    #  but it was receiving an RGB image due to this conversion\n",
        "    # img_array = tf.image.grayscale_to_rgb(img_array)  # Remove this line\n",
        "    img_array = img_array / 255.0  # Normalize pixel values to [0, 1]\n",
        "\n",
        "    # Make a prediction\n",
        "    predictions = model.predict(img_array)\n",
        "    predicted_class = np.argmax(predictions, axis=-1)\n",
        "\n",
        "    return predicted_class[0]\n",
        "\n",
        "# Example usage: Replace 'path/to/your/image.jpg' with the path to your image\n",
        "class_names = ['T-shirt/top', 'Trouser', 'Pullover', 'Dress', 'Coat', 'Sandal', 'Shirt', 'Sneaker', 'Bag', 'Ankle boot']\n",
        "img_path = '/content/trouser.jpg'\n",
        "predicted_class = preprocess_and_predict(img_path)\n",
        "print(f\"Predicted class: {predicted_class}\")\n",
        "print(\"Type of product image uploaded is \",class_names[predicted_class])\n"
      ],
      "metadata": {
        "colab": {
          "base_uri": "https://localhost:8080/"
        },
        "id": "ds-XnPqLTOzU",
        "outputId": "5a80b673-a096-4233-89a3-a0825b1016c5"
      },
      "execution_count": null,
      "outputs": [
        {
          "output_type": "stream",
          "name": "stderr",
          "text": [
            "WARNING:tensorflow:Error in loading the saved optimizer state. As a result, your model is starting with a freshly initialized optimizer.\n"
          ]
        },
        {
          "output_type": "stream",
          "name": "stdout",
          "text": [
            "1/1 [==============================] - 1s 854ms/step\n",
            "Predicted class: 1\n",
            "Type of product image uploaded is  Trouser\n"
          ]
        }
      ]
    },
    {
      "cell_type": "code",
      "source": [
        "\n",
        "img_path = '/content/shirt.jpeg'\n",
        "predicted_class = preprocess_and_predict(img_path)\n",
        "print(f\"Predicted class: {predicted_class}\")\n",
        "print(\"Type of product image uploaded is \",class_names[predicted_class])"
      ],
      "metadata": {
        "colab": {
          "base_uri": "https://localhost:8080/"
        },
        "id": "5yEEMmBOV-eX",
        "outputId": "3addf6f6-946d-4e8e-87c6-6f93917be6c2"
      },
      "execution_count": null,
      "outputs": [
        {
          "output_type": "stream",
          "name": "stdout",
          "text": [
            "1/1 [==============================] - 0s 43ms/step\n",
            "Predicted class: 0\n",
            "Type of product image uploaded is  T-shirt/top\n"
          ]
        }
      ]
    },
    {
      "cell_type": "code",
      "source": [],
      "metadata": {
        "id": "q8nysjoRXFHB"
      },
      "execution_count": null,
      "outputs": []
    }
  ]
}
